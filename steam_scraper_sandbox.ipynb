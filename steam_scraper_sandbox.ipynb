{
 "cells": [
  {
   "cell_type": "markdown",
   "metadata": {},
   "source": [
    "## Sandbox for scraping some reviews from Steam"
   ]
  },
  {
   "cell_type": "markdown",
   "metadata": {},
   "source": [
    "###### Single game review scraper"
   ]
  },
  {
   "cell_type": "code",
   "execution_count": 1,
   "metadata": {
    "collapsed": true
   },
   "outputs": [],
   "source": [
    "import urllib\n",
    "import requests\n",
    "from bs4 import BeautifulSoup"
   ]
  },
  {
   "cell_type": "code",
   "execution_count": 3,
   "metadata": {
    "collapsed": true
   },
   "outputs": [],
   "source": [
    "# the following takes care of the 'enter your age' prompt\n",
    "# we can append a 'next page' or something similar, to the url below in order to run the scirpt on multiple titles\n",
    "cookies = {'birthtime': '568022401'}\n",
    "url = requests.get('http://store.steampowered.com/app/8930/', cookies=cookies)"
   ]
  },
  {
   "cell_type": "code",
   "execution_count": 4,
   "metadata": {
    "collapsed": true
   },
   "outputs": [],
   "source": [
    "soup = BeautifulSoup(url.text, \"lxml\")"
   ]
  },
  {
   "cell_type": "code",
   "execution_count": 45,
   "metadata": {
    "collapsed": false,
    "scrolled": true
   },
   "outputs": [
    {
     "name": "stdout",
     "output_type": "stream",
     "text": [
      "<!DOCTYPE html>\n",
      "<html class=\" responsive\" lang=\"en\">\n",
      " <head>\n",
      "  <meta content=\"text/html; charset=utf-8\" http-equiv=\"Content-Type\"/>\n",
      "  <meta content=\"width=device-width,initial-scale=1\" name=\"viewport\"/>\n",
      "  <meta content=\"#171a21\" name=\"theme-color\"/>\n",
      "  <title>\n",
      "   Sid Meier's Civilization® V on Steam\n",
      "  </title>\n",
      "  <link href=\"/favicon.ico\" rel=\"shortcut icon\" type=\"image/x-icon\"/>\n",
      "  <link href=\"http://store.akamai.steamstatic.com/public/shared/css/motiva_sans.css?v=zfYukDdsXD0v\" rel=\"stylesheet\" type=\"text/css\"/>\n",
      "  <link href=\"http://store.akamai.steamstatic.com/public/shared/css/shared_global.css?v=MDvLKt1PeUFe\" rel=\"stylesheet\" type=\"text/css\"/>\n",
      "  <link href=\"http://store.akamai.steamstatic.com/public/shared/css/buttons.css?v=3YEnHE2flOXO\" rel=\"stylesheet\" type=\"text/css\"/>\n",
      "  <link href=\"http://store.akamai.steamstatic.com/public/css/v6/store.css?v=WhEwM_2B0MbA\" rel=\"stylesheet\" type=\"text/css\"/>\n",
      "  <link href=\"http://store.akamai.steamstatic.com/public/shared/css/user_reviews.css?v=oJMn\n"
     ]
    }
   ],
   "source": [
    "# .prettify makes it a little easier on the eyes; we can see now this is for Civilization 5\n",
    "print soup.prettify()[:1000]"
   ]
  },
  {
   "cell_type": "code",
   "execution_count": 10,
   "metadata": {
    "collapsed": false
   },
   "outputs": [],
   "source": [
    "# Below is the piece of html that points to the link for all the reviews; this is what we want to select\n",
    "# <div id=\"ViewAllReviewsall\" class=\"view_all_reviews_btn\">\n",
    "\n",
    "review_page = soup.find_all(\"div\", class_=\"view_all_reviews_btn\")"
   ]
  },
  {
   "cell_type": "code",
   "execution_count": 12,
   "metadata": {
    "collapsed": false
   },
   "outputs": [
    {
     "name": "stdout",
     "output_type": "stream",
     "text": [
      "<class 'bs4.element.ResultSet'>\n"
     ]
    }
   ],
   "source": [
    "print type(review_page)"
   ]
  },
  {
   "cell_type": "code",
   "execution_count": 18,
   "metadata": {
    "collapsed": false
   },
   "outputs": [],
   "source": [
    "reviews_link = review_page[0].a[\"href\"]"
   ]
  },
  {
   "cell_type": "code",
   "execution_count": 19,
   "metadata": {
    "collapsed": false
   },
   "outputs": [
    {
     "data": {
      "text/plain": [
       "'http://steamcommunity.com/app/8930/reviews/?browsefilter=toprated&snr=1_5_9_'"
      ]
     },
     "execution_count": 19,
     "metadata": {},
     "output_type": "execute_result"
    }
   ],
   "source": [
    "reviews_link"
   ]
  },
  {
   "cell_type": "code",
   "execution_count": 27,
   "metadata": {
    "collapsed": false
   },
   "outputs": [
    {
     "data": {
      "text/plain": [
       "str"
      ]
     },
     "execution_count": 27,
     "metadata": {},
     "output_type": "execute_result"
    }
   ],
   "source": [
    "type(reviews_link)"
   ]
  },
  {
   "cell_type": "markdown",
   "metadata": {},
   "source": [
    "The above URL is complete and will take you directly to the Civ 5 Reviews page."
   ]
  },
  {
   "cell_type": "code",
   "execution_count": 25,
   "metadata": {
    "collapsed": false
   },
   "outputs": [],
   "source": [
    "url2 = requests.get(reviews_link, cookies=cookies)"
   ]
  },
  {
   "cell_type": "code",
   "execution_count": 29,
   "metadata": {
    "collapsed": true
   },
   "outputs": [],
   "source": [
    "soup2 = BeautifulSoup(url2.text, \"lxml\")"
   ]
  },
  {
   "cell_type": "code",
   "execution_count": null,
   "metadata": {
    "collapsed": false,
    "scrolled": true
   },
   "outputs": [],
   "source": [
    "print soup2.prettify()"
   ]
  },
  {
   "cell_type": "code",
   "execution_count": 35,
   "metadata": {
    "collapsed": true
   },
   "outputs": [],
   "source": [
    "# <div class=\"apphub_CardTextContent\"> points to the actual reviews\n",
    "default_reviews = soup2.find_all(\"div\", class_=\"apphub_CardTextContent\")"
   ]
  },
  {
   "cell_type": "code",
   "execution_count": 36,
   "metadata": {
    "collapsed": false
   },
   "outputs": [
    {
     "data": {
      "text/plain": [
       "[<div class=\"apphub_CardTextContent\">\\n<div class=\"date_posted\">Posted: October 13, 2014</div>\\r\\n\\t\\t\\t\\t\\t\\t\\t\\t\\t\\t\\t\\t50 Hours into your latest save, all is going well. Only 3 leaders left Gandhi, Caesar and Washington.<br/>you draft an 'end game' plan in your mind, you will make friends with Gandhi (for obvious reasons he's chill) then procede to befriend Caesar.<br/><br/>Then you will take out Washington because he is a \\u2665\\u2665\\u2665\\u2665 and did not accept an open border agreement 3000 years prior HE MUST PAY. 20 turns later all is going to plan, we are now on Washingtons doorstep, Gandhi and Caesar appear to love and probably fear your superpower nation. All we need to do is eliminate the pesky Americans and ith all our military now on American soil this should not take long.<br/><br/>Then after the swift invasion of America we will make a vote for world peace at the U.N (in rome of course) with our new found Indian and Roman brethren it is a sure win!<br/>But all of a sudden the distant droning of nuclear sirens start, quickly they become louder and louder, \"what is this!?\" you think to yourself, a false alarm? You shrug it off maybe Caesae bombing a city state.<br/><br/>The game pauses... Gandhi appears on the screen, with a sinister grin he shouts \"WAR\" in your face. Only seconds after you see a gut wrenching sight. The camera focuses on a nuclear submarine stationed just off the coast of your pride and joy, the capital of your glorious nation.<br/><br/>You then hear a rumble, just seconds after a nuclear warhead emerges from the previously hidden submarine, you realise it is too late... you can only watch as the missle closes in. As your city goes up in a giant cloud there are short lived screams from your beloved people, then silence. <br/><br/>Before what had just occurred had sunk in, before you could make rescue efforts to save your much loved citizens the  humming of quiet engines fall upon your ears. Suddenly countless 'stealth bombers' appear seemingly out of no where, soon the sky is blackened by planes, the game falls almost silent only the whistle of falling bombs remains. You faint from the shock of what is unfolding.<br/><br/>You awake shortly after, Gandhi is still flattening what remains of your once prosperous empire, now with 'giant death robots' making the most of his seemingly never ending turn. As Gandhi clinically and relentlessly razes what's left of your broken nation all you can do is weep, your people hacked down in their prime and  your glorious nation so mighty just minutes before has just been been all but eliminated in 1 turn. <br/><br/>Why oh why did you turn of autosave? did it really speed your game up? was it worth it?<br/><br/>Ghandi is a complete \\u2665\\u2665\\u2665\\u2665\\u2665\\u2665\\u2665, he acts like your friend but WILL nuke the \\u2665\\u2665\\u2665\\u2665 out of you if even the slightest oppurtunity presents itself. 10/10\\t\\t\\t</div>,\n",
       " <div class=\"apphub_CardTextContent\">\\n<div class=\"date_posted\">Posted: March 30, 2015</div>\\r\\n\\t\\t\\t\\t\\t\\t\\t\\t\\t\\t\\t\\t- played as Arabia on a large earth map<br/>- started in Europe with Brasil below me<br/>- captured Brasil's capital city because it look nice<br/>- turtled half the game before finding out I was coming second<br/>- RUSSIA WAS FIRST <br/>- the only one between me and victory <br/>- Russia wiped out Egypt and Japan (which were around Kazakhstan)<br/>- Russia has a army 3 TIMES the size of mine<br/>- Russia has like 30 citys with -2000 gold per turn<br/>- Russia's capital is in the middle of those 30 citys<br/>- Russia was sill ahead in tech <br/>- operation cold war was now in effect<br/>- allied with Korea (who was above turkey) and city states near russia to use as a shields<br/>- sent 2 nukes along with a fleet of 15 ships across the world to get as close to the capital as possible<br/>- still wasn't close enough<br/>- Russia's finish half the space ship<br/>- sent xcom squads to the city states closest to the capital<br/>- ATTACK<br/>- cue skyrim music<br/>- sent ships into the sea of Okhotsk<br/>- oh crap Russia was prepared<br/>- was met with a blockade of nuclear submarines<br/>- but the nukes must go through <br/>- punched a hole in the blockade with my ships<br/>- my ships sinking left and right<br/>- sent the cruiser with the nukes as far in as possible<br/>- Russia's got 3 turn left on her last spaceship part <br/>- the range on the bombs is just close enough <br/>- FIRE THE NUKES <br/>- SEND IN THE XCOM SQUADS <br/>- captured Russia's capital! <br/>- no ships made it out though, their sacrifices will be honored<br/>- most intense battle I ever fought <br/><br/>- one turn later and France wins a cultural victory <br/><br/>- WHAT THE HELL FRANCE<br/><br/>great game 8.5/10\\t\\t\\t</div>,\n",
       " <div class=\"apphub_CardTextContent\">\\n<div class=\"date_posted\">Posted: March 29, 2015</div>\\r\\n\\t\\t\\t\\t\\t\\t\\t\\t\\t\\t\\t\\tI am the peaceful nation of the Celts.<br/><br/>We shall be the nation of religion, and of diplomacy.<br/><br/>This went well; we ended up next to the Babylonians, and we expanded nicely in peace. However, I have always believed in \"dibs\", so I placed down Glasgow onto the land between us, to provide a little buffer. They seemed annoyed by this. A few warriors glared at each other across our borders for a few hundred years, but otherwise, nothing too bad happened.<br/><br/>In order to spread our religion further (because we were known for our Confucian beliefs which helped us grow our borders and spread our religion faster), we begin to invest in boats. Soon we covered the oceans in missionaries, Inquisitor and warriors to help defend our religious allies.<br/><br/>Babylon was making friends with a local city state, Genoa. However, they were trying to spread Zoroastrianism; those heathens! Despite both our religions being known for their peace, we passive-aggressively sent missionary and Inquisitor to Genoa. Over the course of about 700 years, we had probably burned a few thousand people for swapping religions; those same Warriors had been given spears now, but they continue to glare at each other from across the borders.<br/><br/>I offer Babylon some sugar for their spice; they wanted my sugar, iron, coal and all of my money. I then asked Germany if they wanted sugar for spice; they accepted.<br/><br/>North of me, Rome had begun a war with France. Due to my time of peace and massive amounts of trade, I found myself with a huge amount of money. Everytime France and Rome made peace, I knew that Rome was beginning to look on my relatively peaceful country with greedy eyes. So I bought... I gifted many city states my religion and gold, and then I bought... gifted France and Germany enough money to declare with with Rome.<br/><br/>While they fought, my Spearmen (now Musketmen) continued to glare with Babylon's, and we continued our 1500 year religious passive-aggression over Genoa. They said I was spying on them; I said I wouldn't. When my spies returned, I sent them back to Babylon. A squad of 5 Great Prophets charged into Babylon, converting left, right and centre. Babylon complained I was being a bit aggressive. I apologised. I then sent more missionaries to Babylon.<br/><br/>I had now found every single Civilization; we decided to have a United Nations meeting in 1600A.D. I, as the host, gave everyone a single vote. Except myself. I gave myself 16, due to my popularity. I declared my religion to be the world religion. Every one opposed. I listened to their opinions, and then passed it anyway. When Rome got angry about this, I then paid France to declare war again. When Babylon got angry, I then paid Rome to declare war on them.<br/><br/>My civilians were amazingly happy; hugely more than any other place. But because I was an Emperor, they declared me Declis the Terrible; despite my universal healthcare, happy citizens, peaceful religion, not a single war in my entire history and massive popularity in the word. My army consisted of mostly my friends, my city states, and my Musketmen (now Great War Infantry) continued to glare at the Babylonian Great War Infantry, after 2000+ years. A great duty to my nation, their descendants shall continue to frown at the Babylonians until the civilizations of the world fall.<br/><br/>Eventually we reached a grand United Nations meeting; I sat on one side of the chamber with my 12 City State friends, and the other 7 nations glared at me from the other side. I said that the People's Confucian Republican Empire of Scotland was the best nation in the world.<br/><br/>They all voted against me. I smiled, and then declared I won anyway.<br/><br/>Democracy is overrated. Freedom of religion only applies to my religion. I don't need to be stronger when I'm more popular (and my people are probably more beautiful). And if you don't like me, I'll pay your best friend to backstab you.<br/><br/>Through this, I came to understand American foreign policy. So Civilization is if nothing else, an educational tool.\\t\\t\\t</div>,\n",
       " <div class=\"apphub_CardTextContent\">\\n<div class=\"date_posted\">Posted: November 13, 2014</div>\\r\\n\\t\\t\\t\\t\\t\\t\\t\\t\\t\\t\\t\\tIt's like crack. You keep telling yourself 'just one more turn'. but then you realize you've been sitting in your underwear for for 36 hours and you've forgotten to check on your wife who gave birth to your baby last night.\\t\\t\\t</div>,\n",
       " <div class=\"apphub_CardTextContent\">\\n<div class=\"date_posted\">Posted: December 8, 2014</div>\\r\\n\\t\\t\\t\\t\\t\\t\\t\\t\\t\\t\\t\\t-playing as the US<br/>-explores and finds siam<br/>-befriends siam<br/>-finds greece<br/>-greece is a \\u2665\\u2665\\u2665\\u2665\\u2665\\u2665\\u2665\\u2665 and invades<br/>-gets in a war with greece<br/>-takes 2 greek cities and returnes the rest<br/>-greece is happy<br/>-sails to new lands and finds all other nations<br/>-befirends russia and china<br/>-gets in a foolish war with siam  not knowing that every nation exept china and russia is friends with siam<br/>-feels sad because everyone hates me<br/>-makes peace with siam because im feeling guilty for being a warmonger<br/>-people start being nice to me<br/>-feels happy, only germany and arabia are guarded, everyone else is friendly<br/>-china asked me to declaire war on arabia even though he has done nothing to me<br/>-I decline because Ive decided to be an example to the civilized world<br/>-china declares war on and denounces me<br/>-germany declares war on me<br/>-every nation on earth exept for russia declaires war on me<br/>-me and russia vs. the world<br/>-I have 3 nukes and no one else has any<br/>-cant make myself use them<br/>-steamroll enemy city states south of me<br/>-steamroll greece to the north<br/>-steamroll native american settlements on some islands near me<br/>-siam discovers urainum<br/>-siam is confirmed to have nuclear power plant<br/>-must stop siam from getting nukes<br/>-US gunships race to punch a hole in siams defences<br/>-all reserve units are embarked for the invasion with destroyer escorts<br/>-gunships meet uber heavy resistance<br/>-invasion due in 2 turns<br/>-russia is being cut off from US aid<br/>-sends paratroopers to break the siege of moscow<br/>-fails due to being outnumbered 20:1<br/>-D-Day in siam<br/>-steamrolls siam until only capital left<br/>-no sign of atomic weapons<br/>-100,000 troops surrounding the capital<br/>-air raid sirens<br/>-siam nukes himself four times along with most of my troops<br/>-paras mop up and  capture the capital<br/>-sad music<br/>-all other nations in shock<br/>-we mourn our fallen troops<br/>-all nations make peace in the next 4 turns<br/>-we all are sad<br/>-decides war must end for good<br/>-changes course for diplomatic victory<br/>-starts work on UN<br/>-becomes allies with 19 city states<br/>-all nations live in realitive peace<br/>-finishes UN<br/>-wins vote<br/>-wins game<br/><br/>10/10 no feels like this in a game before.<br/><br/><br/><br/> </div>,\n",
       " <div class=\"apphub_CardTextContent\">\\n<div class=\"date_posted\">Posted: November 2, 2014</div>\\r\\n\\t\\t\\t\\t\\t\\t\\t\\t\\t\\t\\t\\tI only played a little but it was fun.\\t\\t\\t</div>,\n",
       " <div class=\"apphub_CardTextContent\">\\n<div class=\"date_posted\">Posted: January 21, 2015</div>\\r\\n\\t\\t\\t\\t\\t\\t\\t\\t\\t\\t\\t\\tAlexander the great insulted my army saying they were ****<br/><br/>I declared war on him<br/><br/>he was right\\t\\t\\t</div>,\n",
       " <div class=\"apphub_CardTextContent\">\\n<div class=\"date_posted\">Posted: May 16, 2015</div>\\r\\n\\t\\t\\t\\t\\t\\t\\t\\t\\t\\t\\t\\thavent spent enough time to give my full opinion, but its good<br/> </div>,\n",
       " <div class=\"apphub_CardTextContent\">\\n<div class=\"date_posted\">Posted: April 19, 2015</div>\\r\\n\\t\\t\\t\\t\\t\\t\\t\\t\\t\\t\\t\\tGandhi declares war on Bismarck's German Empire. <br/><br/>Soon after, Gandhi strikes Berlin, Hamburg, and Essen with Nuclear Missiles.<br/><br/>The Ottomans, concerned with Gandhi's warmongering, denounce the Indian leader.<br/><br/>They soon lose their capital.<br/><br/>Bismarck, his economy and army in ruins,  pleads for peace with the Indian Empire, but Gandhi will only stop with full annexation of the German Reich.<br/><br/>An alliance of Poland, Gengis Khan's Mongolian Empire, and the Aztecs turn on Gandhi in hopes of stopping his rampage.<br/><br/>Warsaw falls.<br/><br/>Karakorum falls.<br/><br/>Tenochtitlan falls.<br/><br/>Gandhi reins supreme. The world is in his grasp. He is on the verge of doing what men, for thousands of years, have dreamed of: Conquering the world under one banner.<br/><br/>But none of that matters, because the Babylonians have just won a science victory by launching a single little rocket into space. It makes too much sense.<br/><br/>10/10, but be warned:<br/><br/>Gandhi will find you.<br/><br/>Gandhi will kill you.<br/><br/>And Gandhi<br/><br/>Always<br/><br/>Gets<br/><br/>His<br/><br/>Kill.\\t\\t\\t</div>,\n",
       " <div class=\"apphub_CardTextContent\">\\n<div class=\"date_posted\">Posted: September 23, 2015</div>\\r\\n\\t\\t\\t\\t\\t\\t\\t\\t\\t\\t\\t\\tAs a Native American I was glad to finally see a game that accurately portrays our culture. I will never forget the day we built the pyramids on a grassland hill, or who could forget when we used mega death robots to destroy the incan empire for  trying to convert our cities to Confuciacism. 10/10.\\t\\t\\t</div>]"
      ]
     },
     "execution_count": 36,
     "metadata": {},
     "output_type": "execute_result"
    }
   ],
   "source": [
    "default_reviews"
   ]
  },
  {
   "cell_type": "markdown",
   "metadata": {},
   "source": [
    "###### some thoughts before moving forward"
   ]
  },
  {
   "cell_type": "markdown",
   "metadata": {},
   "source": [
    "So far we have a few of the default reviews, but the Steam site uses javascript to dynamically load more reviews as a brower moves down the webpage.  As such, it would likely be much easier using a different library (Scrapy? Selenium?).  As with many programming tasks, there are a range of potential solutions for this.  Previously using bs4 I have navigated through different pages within a site with ease but I've been waiting for a task that called for a little more.  Let's try another approach using another library."
   ]
  },
  {
   "cell_type": "code",
   "execution_count": null,
   "metadata": {
    "collapsed": true
   },
   "outputs": [],
   "source": []
  },
  {
   "cell_type": "code",
   "execution_count": null,
   "metadata": {
    "collapsed": true
   },
   "outputs": [],
   "source": []
  },
  {
   "cell_type": "code",
   "execution_count": null,
   "metadata": {
    "collapsed": true
   },
   "outputs": [],
   "source": []
  },
  {
   "cell_type": "code",
   "execution_count": null,
   "metadata": {
    "collapsed": true
   },
   "outputs": [],
   "source": []
  },
  {
   "cell_type": "code",
   "execution_count": null,
   "metadata": {
    "collapsed": true
   },
   "outputs": [],
   "source": []
  }
 ],
 "metadata": {
  "kernelspec": {
   "display_name": "Python 2",
   "language": "python",
   "name": "python2"
  },
  "language_info": {
   "codemirror_mode": {
    "name": "ipython",
    "version": 2
   },
   "file_extension": ".py",
   "mimetype": "text/x-python",
   "name": "python",
   "nbconvert_exporter": "python",
   "pygments_lexer": "ipython2",
   "version": "2.7.11"
  }
 },
 "nbformat": 4,
 "nbformat_minor": 0
}
