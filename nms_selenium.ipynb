{
 "cells": [
  {
   "cell_type": "markdown",
   "metadata": {},
   "source": [
    "### Let's see what people are saying about NMS (No Man's Sky) on Steam..."
   ]
  },
  {
   "cell_type": "code",
   "execution_count": 61,
   "metadata": {
    "collapsed": false
   },
   "outputs": [],
   "source": [
    "import time\n",
    "import csv\n",
    "import re\n",
    "\n",
    "from selenium import webdriver as web\n",
    "from selenium.webdriver.common.by import By\n",
    "from selenium.webdriver.common.keys import Keys\n",
    "from selenium.webdriver.support.ui import WebDriverWait\n",
    "from selenium.webdriver.support import expected_conditions as EC\n",
    "\n",
    "import numpy as np\n",
    "import pandas as pd"
   ]
  },
  {
   "cell_type": "code",
   "execution_count": 30,
   "metadata": {
    "collapsed": false
   },
   "outputs": [],
   "source": [
    "# note that in this case, there is no path as I have placed a chromedriver.exe directly in the folder\n",
    "# this script is located for simplicity\n",
    "chrome = web.Chrome()"
   ]
  },
  {
   "cell_type": "code",
   "execution_count": 31,
   "metadata": {
    "collapsed": false
   },
   "outputs": [],
   "source": [
    "# directing browser to the initial page for the game (275850 is No Man's Sky)\n",
    "# the last numerical value in the link can easily be changed to switch to another game; or a range for many\n",
    "chrome.get('https://store.steampowered.com/app/275850/')\n",
    "wait = WebDriverWait(chrome,30)"
   ]
  },
  {
   "cell_type": "code",
   "execution_count": 32,
   "metadata": {
    "collapsed": true
   },
   "outputs": [],
   "source": [
    "# clicking on the view all reviews button\n",
    "cross = wait.until(EC.element_to_be_clickable((By.ID, 'ViewAllReviewsall')))\n",
    "cross.click()"
   ]
  },
  {
   "cell_type": "code",
   "execution_count": 33,
   "metadata": {
    "collapsed": false
   },
   "outputs": [],
   "source": [
    "# scrolling to the end of the webpage\n",
    "lenOfPage = chrome.execute_script(\"window.scrollTo(0, document.body.scrollHeight);var lenOfPage=document.body.scrollHeight;return lenOfPage;\")\n",
    "match=False\n",
    "while(match==False):\n",
    "    lastCount = lenOfPage\n",
    "    time.sleep(3)\n",
    "    lenOfPage = chrome.execute_script(\"window.scrollTo(0, document.body.scrollHeight);var lenOfPage=document.body.scrollHeight;return lenOfPage;\")\n",
    "    if lastCount==lenOfPage:\n",
    "        match=True"
   ]
  },
  {
   "cell_type": "code",
   "execution_count": 34,
   "metadata": {
    "collapsed": false
   },
   "outputs": [],
   "source": [
    "# 'apphub_CardTextContent' refers to the reviews; placing the text in a list\n",
    "reviews = []\n",
    "\n",
    "review_elements = chrome.find_elements_by_class_name('apphub_CardTextContent')\n",
    "for i in review_elements:\n",
    "    reviews.append(i.text)"
   ]
  },
  {
   "cell_type": "code",
   "execution_count": 35,
   "metadata": {
    "collapsed": false
   },
   "outputs": [
    {
     "data": {
      "text/plain": [
       "3050"
      ]
     },
     "execution_count": 35,
     "metadata": {},
     "output_type": "execute_result"
    }
   ],
   "source": [
    "# after some time, the auto-loading stops and a 'See More Content' button appears\n",
    "# how many reviews have been saved so far?\n",
    "len(reviews)"
   ]
  },
  {
   "cell_type": "code",
   "execution_count": 39,
   "metadata": {
    "collapsed": false
   },
   "outputs": [
    {
     "data": {
      "text/plain": [
       "u'Posted: August 15\\nA mile wide but an inch deep. I can not express it better.'"
      ]
     },
     "execution_count": 39,
     "metadata": {},
     "output_type": "execute_result"
    }
   ],
   "source": [
    "# the most popular review:\n",
    "reviews[0]"
   ]
  },
  {
   "cell_type": "markdown",
   "metadata": {},
   "source": [
    "I have the raw text of many reviews, which include the date posted, but I don't have other info such as number of hours on record, recommended or not, etc.  This is something I'll add soon."
   ]
  },
  {
   "cell_type": "markdown",
   "metadata": {},
   "source": [
    "#### a little cleaning.."
   ]
  },
  {
   "cell_type": "code",
   "execution_count": 45,
   "metadata": {
    "collapsed": false
   },
   "outputs": [
    {
     "data": {
      "text/plain": [
       "list"
      ]
     },
     "execution_count": 45,
     "metadata": {},
     "output_type": "execute_result"
    }
   ],
   "source": [
    "# type() shows us that the reviews in one giant list\n",
    "type(reviews)"
   ]
  },
  {
   "cell_type": "code",
   "execution_count": 46,
   "metadata": {
    "collapsed": false
   },
   "outputs": [
    {
     "data": {
      "text/plain": [
       "u'Posted: August 17\\nTried very hard to enjoy the game and see it through. A mile wide but and inch deep is the perfect analogy for this experiment. Not worth the $60 price tag.'"
      ]
     },
     "execution_count": 46,
     "metadata": {},
     "output_type": "execute_result"
    }
   ],
   "source": [
    "# the second review (0 would be the first)\n",
    "reviews[1]"
   ]
  },
  {
   "cell_type": "code",
   "execution_count": 48,
   "metadata": {
    "collapsed": false
   },
   "outputs": [
    {
     "data": {
      "text/plain": [
       "u'Posted: August 16\\nI played this game for 23 hours, and I did not have fun.\\n\\nSome will say \"You must have been having fun, otherwise you wouldn\\'t have played it for 23 hours. Why didn\\'t you stop after 5 hours?\"\\n\\nThe answer to that is: Because I BELIEVED it would get better. I had faith. People kept saying things like this:\\n\\n\"Planets get more interesting closer to the center.\"\\n\"You just haven\\'t given the game enough time yet. It gets better once you get more inventory slots.\"\\n\"Keep playing, I\\'ve had an amazing time.\"\\n\\nLets say someone came to me and said \"Lets dig to the center of the Earth. Theres a pot of gold there and you will be rich. Heres a shovel\", and I start digging. After 10 hours I say \"This sucks. I\\'m going back up the ladder.\"\\n\\nThe gentleman says \"No keep digging. It will get better. It will be worth it.\"\\n\\nAfter 23 hours of digging I\\'m still having a terrible time. Do I give up and say \"that was no fun\", or do I keep digging?\\n\\nHow about if I had paid 40 quid for the shovel?\\n\\nedit: I wrote this review immediately after closing the game and saw \"23 hours\" - Steam updated a few mins later to add the last few hours I\\'d spent playing. I haven\\'t played it since writing this review.'"
      ]
     },
     "execution_count": 48,
     "metadata": {},
     "output_type": "execute_result"
    }
   ],
   "source": [
    "# and the fourth review\n",
    "reviews[4]"
   ]
  },
  {
   "cell_type": "code",
   "execution_count": 62,
   "metadata": {
    "collapsed": false
   },
   "outputs": [
    {
     "data": {
      "text/plain": [
       "u'Posted: August 17\\nTried very hard to enjoy the game and see it through. A mile wide but and inch deep is the perfect analogy for this experiment. Not worth the $60 price tag.'"
      ]
     },
     "execution_count": 62,
     "metadata": {},
     "output_type": "execute_result"
    }
   ],
   "source": [
    "reviews[1]"
   ]
  },
  {
   "cell_type": "code",
   "execution_count": 74,
   "metadata": {
    "collapsed": false
   },
   "outputs": [
    {
     "data": {
      "text/plain": [
       "unicode"
      ]
     },
     "execution_count": 74,
     "metadata": {},
     "output_type": "execute_result"
    }
   ],
   "source": [
    "# we can see here these are unicode objects\n",
    "type(reviews[1])"
   ]
  },
  {
   "cell_type": "code",
   "execution_count": 67,
   "metadata": {
    "collapsed": false
   },
   "outputs": [
    {
     "data": {
      "text/plain": [
       "[u'Posted: August 17',\n",
       " u'Tried very hard to enjoy the game and see it through. A mile wide but and inch deep is the perfect analogy for this experiment. Not worth the $60 price tag.']"
      ]
     },
     "execution_count": 67,
     "metadata": {},
     "output_type": "execute_result"
    }
   ],
   "source": [
    "# this is how we would split the date off and create a list for each review\n",
    "reviews[1].split(\"\\n\")"
   ]
  },
  {
   "cell_type": "code",
   "execution_count": 77,
   "metadata": {
    "collapsed": false
   },
   "outputs": [],
   "source": [
    "# creating an empty list, splitting date and review, and appending these new lists into the empty list\n",
    "# effectively creating a list of lists\n",
    "split_rev = []\n",
    "\n",
    "for i in reviews:\n",
    "    split_rev.append(i.split(\"\\n\"))"
   ]
  },
  {
   "cell_type": "code",
   "execution_count": 79,
   "metadata": {
    "collapsed": true
   },
   "outputs": [],
   "source": [
    "# a list of dates, a list of reviews\n",
    "dates = [item[0] for item in split_rev]\n",
    "revs = [item[1] for item in split_rev]"
   ]
  },
  {
   "cell_type": "code",
   "execution_count": 87,
   "metadata": {
    "collapsed": true
   },
   "outputs": [],
   "source": [
    "# creating a new dataframe, adding dates and reviews\n",
    "# note that generally it is important to make sure that the date and reveiws still coorsepond with their original\n",
    "# entries.  a quick glance above shows the first 3 adding up; are we sure?\n",
    "df = pd.DataFrame({  \"Date\"  : dates,\n",
    "                     \"Reviews\" : revs})"
   ]
  },
  {
   "cell_type": "code",
   "execution_count": 88,
   "metadata": {
    "collapsed": false
   },
   "outputs": [
    {
     "data": {
      "text/html": [
       "<div>\n",
       "<table border=\"1\" class=\"dataframe\">\n",
       "  <thead>\n",
       "    <tr style=\"text-align: right;\">\n",
       "      <th></th>\n",
       "      <th>Date</th>\n",
       "      <th>Reviews</th>\n",
       "    </tr>\n",
       "  </thead>\n",
       "  <tbody>\n",
       "    <tr>\n",
       "      <th>0</th>\n",
       "      <td>Posted: August 15</td>\n",
       "      <td>A mile wide but an inch deep. I can not expres...</td>\n",
       "    </tr>\n",
       "    <tr>\n",
       "      <th>1</th>\n",
       "      <td>Posted: August 17</td>\n",
       "      <td>Tried very hard to enjoy the game and see it t...</td>\n",
       "    </tr>\n",
       "    <tr>\n",
       "      <th>2</th>\n",
       "      <td>Posted: August 16</td>\n",
       "      <td>http://www.gamezone.com/news/no-man-s-sky-foun...</td>\n",
       "    </tr>\n",
       "    <tr>\n",
       "      <th>3</th>\n",
       "      <td>Posted: August 14</td>\n",
       "      <td>So I never knew space was so boring.</td>\n",
       "    </tr>\n",
       "    <tr>\n",
       "      <th>4</th>\n",
       "      <td>Posted: August 16</td>\n",
       "      <td>I played this game for 23 hours, and I did not...</td>\n",
       "    </tr>\n",
       "    <tr>\n",
       "      <th>5</th>\n",
       "      <td>Posted: August 16</td>\n",
       "      <td>This game was falsely advertised, plain and si...</td>\n",
       "    </tr>\n",
       "    <tr>\n",
       "      <th>6</th>\n",
       "      <td>Posted: August 15</td>\n",
       "      <td>I tried REALLY hard to like this game.</td>\n",
       "    </tr>\n",
       "    <tr>\n",
       "      <th>7</th>\n",
       "      <td>Posted: August 14</td>\n",
       "      <td>\"A mile wide but an inch deep\" was the title o...</td>\n",
       "    </tr>\n",
       "    <tr>\n",
       "      <th>8</th>\n",
       "      <td>Posted: August 17</td>\n",
       "      <td>*UPDATES BELOW* READ THIS FIRST BEFORE BEING A...</td>\n",
       "    </tr>\n",
       "    <tr>\n",
       "      <th>9</th>\n",
       "      <td>Posted: August 12</td>\n",
       "      <td>This is a overhyped indie game made by 15 peop...</td>\n",
       "    </tr>\n",
       "    <tr>\n",
       "      <th>10</th>\n",
       "      <td>Posted: August 13</td>\n",
       "      <td>Ok first off, this is coming from someone who ...</td>\n",
       "    </tr>\n",
       "    <tr>\n",
       "      <th>11</th>\n",
       "      <td>Posted: August 16</td>\n",
       "      <td>This game is a giant lie. Shawn Murray should ...</td>\n",
       "    </tr>\n",
       "    <tr>\n",
       "      <th>12</th>\n",
       "      <td>Posted: August 12</td>\n",
       "      <td>1) Essential purchase</td>\n",
       "    </tr>\n",
       "    <tr>\n",
       "      <th>13</th>\n",
       "      <td>Posted: August 17</td>\n",
       "      <td>Rinse, repeat. Rinse, repeat. Rinse, re…. wait...</td>\n",
       "    </tr>\n",
       "    <tr>\n",
       "      <th>14</th>\n",
       "      <td>Posted: August 16</td>\n",
       "      <td>Aaaaaaaaaand it's gone! 20 hours of gameplay d...</td>\n",
       "    </tr>\n",
       "    <tr>\n",
       "      <th>15</th>\n",
       "      <td>Posted: August 14</td>\n",
       "      <td>This game is not worth $60. Props to the small...</td>\n",
       "    </tr>\n",
       "    <tr>\n",
       "      <th>16</th>\n",
       "      <td>Posted: August 17</td>\n",
       "      <td>WARNING SPOILERS.</td>\n",
       "    </tr>\n",
       "    <tr>\n",
       "      <th>17</th>\n",
       "      <td>Posted: August 14</td>\n",
       "      <td>No Man's Sky: Rating - 6/10</td>\n",
       "    </tr>\n",
       "    <tr>\n",
       "      <th>18</th>\n",
       "      <td>Posted: August 16</td>\n",
       "      <td>As for right now. It's impressive. The game is...</td>\n",
       "    </tr>\n",
       "    <tr>\n",
       "      <th>19</th>\n",
       "      <td>Posted: August 18</td>\n",
       "      <td>Tried to give this game a fair chance. I remem...</td>\n",
       "    </tr>\n",
       "    <tr>\n",
       "      <th>20</th>\n",
       "      <td>Posted: August 17</td>\n",
       "      <td>See those screenshots and videos up there? Tho...</td>\n",
       "    </tr>\n",
       "    <tr>\n",
       "      <th>21</th>\n",
       "      <td>Posted: August 14</td>\n",
       "      <td>Objectively not a bad game, but it is:</td>\n",
       "    </tr>\n",
       "    <tr>\n",
       "      <th>22</th>\n",
       "      <td>Posted: August 18</td>\n",
       "      <td>Super repetative, no real goal, terrible comba...</td>\n",
       "    </tr>\n",
       "    <tr>\n",
       "      <th>23</th>\n",
       "      <td>Posted: August 18</td>\n",
       "      <td>After many years of promises and false expecta...</td>\n",
       "    </tr>\n",
       "    <tr>\n",
       "      <th>24</th>\n",
       "      <td>Posted: August 14</td>\n",
       "      <td>Overall, it's not a bad game, but it's nowhere...</td>\n",
       "    </tr>\n",
       "    <tr>\n",
       "      <th>25</th>\n",
       "      <td>Posted: August 18</td>\n",
       "      <td>Key reasons why I don't like it:</td>\n",
       "    </tr>\n",
       "    <tr>\n",
       "      <th>26</th>\n",
       "      <td>Posted: August 15</td>\n",
       "      <td>Update 18/08/16:</td>\n",
       "    </tr>\n",
       "    <tr>\n",
       "      <th>27</th>\n",
       "      <td>Posted: August 17</td>\n",
       "      <td>Trailers cant be trusted - BE WARNED -</td>\n",
       "    </tr>\n",
       "    <tr>\n",
       "      <th>28</th>\n",
       "      <td>Posted: August 16</td>\n",
       "      <td>Indie Game quality. Less polished than Ark.</td>\n",
       "    </tr>\n",
       "    <tr>\n",
       "      <th>29</th>\n",
       "      <td>Posted: August 13</td>\n",
       "      <td>As much as I want to love this game, I find my...</td>\n",
       "    </tr>\n",
       "    <tr>\n",
       "      <th>...</th>\n",
       "      <td>...</td>\n",
       "      <td>...</td>\n",
       "    </tr>\n",
       "    <tr>\n",
       "      <th>3020</th>\n",
       "      <td>Posted: August 12</td>\n",
       "      <td>Ok, so i have a feeling there will be a few pe...</td>\n",
       "    </tr>\n",
       "    <tr>\n",
       "      <th>3021</th>\n",
       "      <td>Posted: August 12</td>\n",
       "      <td>Waiting on my refund to come through right now...</td>\n",
       "    </tr>\n",
       "    <tr>\n",
       "      <th>3022</th>\n",
       "      <td>Posted: August 12</td>\n",
       "      <td>Can't start the game like many other gamers .....</td>\n",
       "    </tr>\n",
       "    <tr>\n",
       "      <th>3023</th>\n",
       "      <td>Posted: August 12</td>\n",
       "      <td>Talk about a sausagefest. Where all the ♥♥♥♥♥e...</td>\n",
       "    </tr>\n",
       "    <tr>\n",
       "      <th>3024</th>\n",
       "      <td>Posted: August 12</td>\n",
       "      <td>Performance issues makes me want to cry. Salty...</td>\n",
       "    </tr>\n",
       "    <tr>\n",
       "      <th>3025</th>\n",
       "      <td>Posted: August 12</td>\n",
       "      <td>crap.... just crap... crashes to desktop... do...</td>\n",
       "    </tr>\n",
       "    <tr>\n",
       "      <th>3026</th>\n",
       "      <td>Posted: August 12</td>\n",
       "      <td>All praise the refund policy.</td>\n",
       "    </tr>\n",
       "    <tr>\n",
       "      <th>3027</th>\n",
       "      <td>Posted: August 12</td>\n",
       "      <td>After an hour of playing, I refunded the game....</td>\n",
       "    </tr>\n",
       "    <tr>\n",
       "      <th>3028</th>\n",
       "      <td>Posted: August 12</td>\n",
       "      <td>Okay, so this game is okay. However, in the cu...</td>\n",
       "    </tr>\n",
       "    <tr>\n",
       "      <th>3029</th>\n",
       "      <td>Posted: August 12</td>\n",
       "      <td>Poor performance, wierd choices on key-binding...</td>\n",
       "    </tr>\n",
       "    <tr>\n",
       "      <th>3030</th>\n",
       "      <td>Posted: August 12</td>\n",
       "      <td>Refunded. All the hype for this game was not w...</td>\n",
       "    </tr>\n",
       "    <tr>\n",
       "      <th>3031</th>\n",
       "      <td>Posted: August 12</td>\n",
       "      <td>cant even get the game to work it crashes and ...</td>\n",
       "    </tr>\n",
       "    <tr>\n",
       "      <th>3032</th>\n",
       "      <td>Posted: August 12</td>\n",
       "      <td>Everytime I alt-tab the game crashes, and the ...</td>\n",
       "    </tr>\n",
       "    <tr>\n",
       "      <th>3033</th>\n",
       "      <td>Posted: August 12</td>\n",
       "      <td>doesnt work</td>\n",
       "    </tr>\n",
       "    <tr>\n",
       "      <th>3034</th>\n",
       "      <td>Posted: August 12</td>\n",
       "      <td>Constant stuttering and low FPS for my rig tha...</td>\n",
       "    </tr>\n",
       "    <tr>\n",
       "      <th>3035</th>\n",
       "      <td>Posted: August 12</td>\n",
       "      <td>♥♥♥♥'s busted.</td>\n",
       "    </tr>\n",
       "    <tr>\n",
       "      <th>3036</th>\n",
       "      <td>Posted: August 12</td>\n",
       "      <td>The fps is absolutely atrocious, owning a gtx ...</td>\n",
       "    </tr>\n",
       "    <tr>\n",
       "      <th>3037</th>\n",
       "      <td>Posted: August 12</td>\n",
       "      <td>Absolutely no excuse for this game to be relea...</td>\n",
       "    </tr>\n",
       "    <tr>\n",
       "      <th>3038</th>\n",
       "      <td>Posted: August 12</td>\n",
       "      <td>Between the inventory size, the lack of real d...</td>\n",
       "    </tr>\n",
       "    <tr>\n",
       "      <th>3039</th>\n",
       "      <td>Posted: August 12</td>\n",
       "      <td>The technical side of the game is pretty impre...</td>\n",
       "    </tr>\n",
       "    <tr>\n",
       "      <th>3040</th>\n",
       "      <td>Posted: August 14</td>\n",
       "      <td>Talk about an infinite letdown.</td>\n",
       "    </tr>\n",
       "    <tr>\n",
       "      <th>3041</th>\n",
       "      <td>Posted: August 12</td>\n",
       "      <td>Boring as F*&amp;CK</td>\n",
       "    </tr>\n",
       "    <tr>\n",
       "      <th>3042</th>\n",
       "      <td>Posted: August 14</td>\n",
       "      <td>I liked what they try to do with the new conse...</td>\n",
       "    </tr>\n",
       "    <tr>\n",
       "      <th>3043</th>\n",
       "      <td>Posted: August 14</td>\n",
       "      <td>I really like this game. I had been anticipati...</td>\n",
       "    </tr>\n",
       "    <tr>\n",
       "      <th>3044</th>\n",
       "      <td>Posted: August 13</td>\n",
       "      <td>This game is really not worth £40. The game pl...</td>\n",
       "    </tr>\n",
       "    <tr>\n",
       "      <th>3045</th>\n",
       "      <td>Posted: August 14</td>\n",
       "      <td>It's basicly the space stage of spore where yo...</td>\n",
       "    </tr>\n",
       "    <tr>\n",
       "      <th>3046</th>\n",
       "      <td>Posted: August 14</td>\n",
       "      <td>I've been buying games on steam for 3 and a ha...</td>\n",
       "    </tr>\n",
       "    <tr>\n",
       "      <th>3047</th>\n",
       "      <td>Posted: August 14</td>\n",
       "      <td>The first few hours of the game are pretty ent...</td>\n",
       "    </tr>\n",
       "    <tr>\n",
       "      <th>3048</th>\n",
       "      <td>Posted: August 12</td>\n",
       "      <td>[EDIT] My game crashed mid-space fight with 8 ...</td>\n",
       "    </tr>\n",
       "    <tr>\n",
       "      <th>3049</th>\n",
       "      <td>Posted: August 14</td>\n",
       "      <td>I really like the game but the moderators on t...</td>\n",
       "    </tr>\n",
       "  </tbody>\n",
       "</table>\n",
       "<p>3050 rows × 2 columns</p>\n",
       "</div>"
      ],
      "text/plain": [
       "                   Date                                            Reviews\n",
       "0     Posted: August 15  A mile wide but an inch deep. I can not expres...\n",
       "1     Posted: August 17  Tried very hard to enjoy the game and see it t...\n",
       "2     Posted: August 16  http://www.gamezone.com/news/no-man-s-sky-foun...\n",
       "3     Posted: August 14               So I never knew space was so boring.\n",
       "4     Posted: August 16  I played this game for 23 hours, and I did not...\n",
       "5     Posted: August 16  This game was falsely advertised, plain and si...\n",
       "6     Posted: August 15             I tried REALLY hard to like this game.\n",
       "7     Posted: August 14  \"A mile wide but an inch deep\" was the title o...\n",
       "8     Posted: August 17  *UPDATES BELOW* READ THIS FIRST BEFORE BEING A...\n",
       "9     Posted: August 12  This is a overhyped indie game made by 15 peop...\n",
       "10    Posted: August 13  Ok first off, this is coming from someone who ...\n",
       "11    Posted: August 16  This game is a giant lie. Shawn Murray should ...\n",
       "12    Posted: August 12                              1) Essential purchase\n",
       "13    Posted: August 17  Rinse, repeat. Rinse, repeat. Rinse, re…. wait...\n",
       "14    Posted: August 16  Aaaaaaaaaand it's gone! 20 hours of gameplay d...\n",
       "15    Posted: August 14  This game is not worth $60. Props to the small...\n",
       "16    Posted: August 17                                  WARNING SPOILERS.\n",
       "17    Posted: August 14                        No Man's Sky: Rating - 6/10\n",
       "18    Posted: August 16  As for right now. It's impressive. The game is...\n",
       "19    Posted: August 18  Tried to give this game a fair chance. I remem...\n",
       "20    Posted: August 17  See those screenshots and videos up there? Tho...\n",
       "21    Posted: August 14             Objectively not a bad game, but it is:\n",
       "22    Posted: August 18  Super repetative, no real goal, terrible comba...\n",
       "23    Posted: August 18  After many years of promises and false expecta...\n",
       "24    Posted: August 14  Overall, it's not a bad game, but it's nowhere...\n",
       "25    Posted: August 18                   Key reasons why I don't like it:\n",
       "26    Posted: August 15                                   Update 18/08/16:\n",
       "27    Posted: August 17             Trailers cant be trusted - BE WARNED -\n",
       "28    Posted: August 16        Indie Game quality. Less polished than Ark.\n",
       "29    Posted: August 13  As much as I want to love this game, I find my...\n",
       "...                 ...                                                ...\n",
       "3020  Posted: August 12  Ok, so i have a feeling there will be a few pe...\n",
       "3021  Posted: August 12  Waiting on my refund to come through right now...\n",
       "3022  Posted: August 12  Can't start the game like many other gamers .....\n",
       "3023  Posted: August 12  Talk about a sausagefest. Where all the ♥♥♥♥♥e...\n",
       "3024  Posted: August 12  Performance issues makes me want to cry. Salty...\n",
       "3025  Posted: August 12  crap.... just crap... crashes to desktop... do...\n",
       "3026  Posted: August 12                      All praise the refund policy.\n",
       "3027  Posted: August 12  After an hour of playing, I refunded the game....\n",
       "3028  Posted: August 12  Okay, so this game is okay. However, in the cu...\n",
       "3029  Posted: August 12  Poor performance, wierd choices on key-binding...\n",
       "3030  Posted: August 12  Refunded. All the hype for this game was not w...\n",
       "3031  Posted: August 12  cant even get the game to work it crashes and ...\n",
       "3032  Posted: August 12  Everytime I alt-tab the game crashes, and the ...\n",
       "3033  Posted: August 12                                        doesnt work\n",
       "3034  Posted: August 12  Constant stuttering and low FPS for my rig tha...\n",
       "3035  Posted: August 12                                     ♥♥♥♥'s busted.\n",
       "3036  Posted: August 12  The fps is absolutely atrocious, owning a gtx ...\n",
       "3037  Posted: August 12  Absolutely no excuse for this game to be relea...\n",
       "3038  Posted: August 12  Between the inventory size, the lack of real d...\n",
       "3039  Posted: August 12  The technical side of the game is pretty impre...\n",
       "3040  Posted: August 14                    Talk about an infinite letdown.\n",
       "3041  Posted: August 12                                    Boring as F*&CK\n",
       "3042  Posted: August 14  I liked what they try to do with the new conse...\n",
       "3043  Posted: August 14  I really like this game. I had been anticipati...\n",
       "3044  Posted: August 13  This game is really not worth £40. The game pl...\n",
       "3045  Posted: August 14  It's basicly the space stage of spore where yo...\n",
       "3046  Posted: August 14  I've been buying games on steam for 3 and a ha...\n",
       "3047  Posted: August 14  The first few hours of the game are pretty ent...\n",
       "3048  Posted: August 12  [EDIT] My game crashed mid-space fight with 8 ...\n",
       "3049  Posted: August 14  I really like the game but the moderators on t...\n",
       "\n",
       "[3050 rows x 2 columns]"
      ]
     },
     "execution_count": 88,
     "metadata": {},
     "output_type": "execute_result"
    }
   ],
   "source": [
    "# the dataframe\n",
    "df"
   ]
  },
  {
   "cell_type": "code",
   "execution_count": 90,
   "metadata": {
    "collapsed": false
   },
   "outputs": [],
   "source": [
    "df.to_csv('steam_reviews.csv', encoding='utf-8')"
   ]
  },
  {
   "cell_type": "code",
   "execution_count": null,
   "metadata": {
    "collapsed": true
   },
   "outputs": [],
   "source": []
  }
 ],
 "metadata": {
  "kernelspec": {
   "display_name": "Python 2",
   "language": "python",
   "name": "python2"
  },
  "language_info": {
   "codemirror_mode": {
    "name": "ipython",
    "version": 2
   },
   "file_extension": ".py",
   "mimetype": "text/x-python",
   "name": "python",
   "nbconvert_exporter": "python",
   "pygments_lexer": "ipython2",
   "version": "2.7.11"
  }
 },
 "nbformat": 4,
 "nbformat_minor": 0
}
