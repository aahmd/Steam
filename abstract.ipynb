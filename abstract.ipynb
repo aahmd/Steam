{
 "cells": [
  {
   "cell_type": "markdown",
   "metadata": {},
   "source": [
    "## Steam Reviews"
   ]
  },
  {
   "cell_type": "markdown",
   "metadata": {},
   "source": [
    "#### A little background about the goal of this project:"
   ]
  },
  {
   "cell_type": "markdown",
   "metadata": {},
   "source": [
    "Although there are many ways to use Natural Language Processing (NLP), analyzing reviews (on music, movies, products, etc) I think is particularly interesting.  \n",
    "\n",
    "\n",
    "A few thoughts to keep in mind:\n",
    "\n",
    "1.  I don't know the exact way Amazon or Spotify's recommender algorithms are designed, or what data they use, so I'll make certain assumptions.\n",
    "2.  There are several reasons why we have increased capabilities in this field currently, yet I will limit the scope of this conversation to how data has changed over time, and what that means today.\n",
    "3.  This conversation is meant to help people outside of Data Science understand WHY data is becoming increasingly more useful, and how it is being used. These individuals may be quite aware of certain pratices pointed out, but may not understand the future implications.\n"
   ]
  },
  {
   "cell_type": "markdown",
   "metadata": {},
   "source": [
    "###### Data Science ( a rather long observation)"
   ]
  },
  {
   "cell_type": "markdown",
   "metadata": {},
   "source": [
    "'Data Science' as we know it, has been around for quite a while, albeit in a more 'crude' fashion.  I tend to think of using sales data as an early example of the basic uses.  What is selling?  Where?  When?  To who?  Etc..  And there are many other uses, inventory management for example.  Supply and demand, and the associated theories, have been used by participants engaged in business transactions for centuries.  This IS using 'data'.\n",
    "\n",
    "I think it's important to note that this is quite obvious.  I could argue that historically, much of this has been, from a consumer perspective, a 'passive' process.  But, consider the following:  Today on Facebook, we see advertisements that utilize cookies. As such, the AD's have become increasingly more 'personalized' or 'targeted'.  Some users, myself included, find this annoying.  Firms ultimatley aim to increase traffic or sales through these measures.  Theres also a matter of utility, but I'll get to that.\n",
    "\n",
    "Again, while all of this is quite obvious, it's important to note the implications.\n",
    "\n",
    "Fast foward to today.  It's funny how the word 'accuracy' comes to mind for the next observation I would like to make.  A few months ago, a friend pointed out that she absoulutely loved Spotify's Discover Weekly feature.  Spotify, assumingly, takes music that is similar to what the user is listening to, or with what other users who listen to that- what they listen to.  Who knows.  For the context of this discussion, it's irrelevant which particular method is being deployed, or what data they're utilizing.  She was amazed by how much she was enjoying the music that was being recommended, and was ultimately being exposed to a lot of new artists.  In this case, Discover Weekly is increasing the utility of Spotify's services to this particular user, which is awesome, for the user and for Spotify.  \n",
    "\n",
    "Amazon and Netflix are two more firms that use their customers data and model their operating pratices accordingly.  Amazon has \"items recommended for you\" and \"customers who bought this item also bought,\" etc.  As a consumer, one can see this right on the website, but there are many other more 'unseen' ways that Amazon uses customer data.  Netflix I think is a great example.  This article talks a bit about how their search algorithm works:  http://www.businessinsider.com/how-the-netflix-recommendation-algorithm-works-2016-2.  The reality is that Netflix puts a lot of effort into their engine, to most users, its simply a 'thing that makes recommendations.'\n",
    "\n",
    "And so while its not too hard to imagine how a lot of this stuff works, most consumer are likely unaware as to the level of sophisication going into the design of these algorithms, and/or what data precisely is being utilized.  In any case, Data Scientists, and firms like the aformentioned, are excited about the possibilities of using data more than ever.  One reason for this excitement, is that the usable data itself has become more sophisticated.\n",
    "\n",
    "If I could make one more assumption, it's this:  Put simply, there is a shift in terms of the 'type' of data that we're now able to collect (and put to use!).  I'd like to argue that the 'data' that parties were able to use in the past, had more to do with input and output.  Not to say that this sort of data is currently being shunned, it's being used more than ever.  The difference these days is that we have much greater insight into the behavior of consumers.  Not that we have always been naive to this, but the extent at which 'user' data is being collected and utilized has changed dramatically.  Maybe a better way to put it would be that there is more METAdata now, data about other data.  In any case, we can now dive further into any kind of data as compared to before and ultimately make more informed decisions."
   ]
  },
  {
   "cell_type": "code",
   "execution_count": null,
   "metadata": {
    "collapsed": true
   },
   "outputs": [],
   "source": []
  },
  {
   "cell_type": "markdown",
   "metadata": {},
   "source": [
    "###### Whats so cool about NLP on reviews?? (the long explanation)"
   ]
  },
  {
   "cell_type": "markdown",
   "metadata": {
    "collapsed": true
   },
   "source": [
    "To the Data Scientist, everything that I have mentioned is rather obvious.  Many users of Netflix likely don't think about how it all works.  Some likely wonder at times \"Why is this film showing up on my list? Etc..\"\n",
    "\n",
    "\n",
    "to be continued."
   ]
  }
 ],
 "metadata": {
  "kernelspec": {
   "display_name": "Python 2",
   "language": "python",
   "name": "python2"
  },
  "language_info": {
   "codemirror_mode": {
    "name": "ipython",
    "version": 2
   },
   "file_extension": ".py",
   "mimetype": "text/x-python",
   "name": "python",
   "nbconvert_exporter": "python",
   "pygments_lexer": "ipython2",
   "version": "2.7.11"
  }
 },
 "nbformat": 4,
 "nbformat_minor": 0
}
