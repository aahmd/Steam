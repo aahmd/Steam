{
 "cells": [
  {
   "cell_type": "markdown",
   "metadata": {},
   "source": [
    "## Selenium sandbox"
   ]
  },
  {
   "cell_type": "markdown",
   "metadata": {},
   "source": [
    "Documentation can be found at the following link:  http://www.seleniumhq.org"
   ]
  },
  {
   "cell_type": "code",
   "execution_count": 38,
   "metadata": {
    "collapsed": true
   },
   "outputs": [],
   "source": [
    "import time\n",
    "import csv\n",
    "from selenium import webdriver as web\n",
    "from selenium.webdriver.common.by import By\n",
    "from selenium.webdriver.common.keys import Keys\n",
    "from selenium.webdriver.support.ui import WebDriverWait\n",
    "from selenium.webdriver.support import expected_conditions as EC\n",
    "# import selenium.webdriver.firefox.webdriver as fwb"
   ]
  },
  {
   "cell_type": "code",
   "execution_count": 39,
   "metadata": {
    "collapsed": false
   },
   "outputs": [],
   "source": [
    "chrome = web.Chrome()"
   ]
  },
  {
   "cell_type": "code",
   "execution_count": 40,
   "metadata": {
    "collapsed": false
   },
   "outputs": [],
   "source": [
    "# navigating to No Mans Sky game page\n",
    "chrome.get('http://store.steampowered.com/app/275850/')\n",
    "wait = WebDriverWait(chrome,30)"
   ]
  },
  {
   "cell_type": "code",
   "execution_count": 41,
   "metadata": {
    "collapsed": false
   },
   "outputs": [],
   "source": [
    "# clicking on the 'all reviews' button\n",
    "cross = wait.until(EC.element_to_be_clickable((By.ID,'ViewAllReviewsall')))\n",
    "cross.click()"
   ]
  },
  {
   "cell_type": "markdown",
   "metadata": {
    "collapsed": true
   },
   "source": [
    "###### thoughts on use so far"
   ]
  },
  {
   "cell_type": "markdown",
   "metadata": {},
   "source": [
    "At first I tried this using the firefox browser (at the time I had not been using Chrome on this laptop).  While it worked great at first, after an update things got messed up with the interaction between Selenium and the Firefox webdriver.  There were some issued getting Chrome up and running with Selenuim, but after placing a chrome driver in the correct path, things are fine now."
   ]
  },
  {
   "cell_type": "code",
   "execution_count": 42,
   "metadata": {
    "collapsed": false
   },
   "outputs": [],
   "source": [
    "# targeting the review elements\n",
    "reviews = chrome.find_elements_by_class_name('apphub_CardTextContent')"
   ]
  },
  {
   "cell_type": "code",
   "execution_count": 45,
   "metadata": {
    "collapsed": false
   },
   "outputs": [
    {
     "data": {
      "text/plain": [
       "[<selenium.webdriver.remote.webelement.WebElement (session=\"9b70e87bb9be92350a60ad3f3b0eae5e\", element=\"0.6091258764311507-1\")>,\n",
       " <selenium.webdriver.remote.webelement.WebElement (session=\"9b70e87bb9be92350a60ad3f3b0eae5e\", element=\"0.6091258764311507-2\")>,\n",
       " <selenium.webdriver.remote.webelement.WebElement (session=\"9b70e87bb9be92350a60ad3f3b0eae5e\", element=\"0.6091258764311507-3\")>,\n",
       " <selenium.webdriver.remote.webelement.WebElement (session=\"9b70e87bb9be92350a60ad3f3b0eae5e\", element=\"0.6091258764311507-4\")>,\n",
       " <selenium.webdriver.remote.webelement.WebElement (session=\"9b70e87bb9be92350a60ad3f3b0eae5e\", element=\"0.6091258764311507-5\")>,\n",
       " <selenium.webdriver.remote.webelement.WebElement (session=\"9b70e87bb9be92350a60ad3f3b0eae5e\", element=\"0.6091258764311507-6\")>,\n",
       " <selenium.webdriver.remote.webelement.WebElement (session=\"9b70e87bb9be92350a60ad3f3b0eae5e\", element=\"0.6091258764311507-7\")>,\n",
       " <selenium.webdriver.remote.webelement.WebElement (session=\"9b70e87bb9be92350a60ad3f3b0eae5e\", element=\"0.6091258764311507-8\")>,\n",
       " <selenium.webdriver.remote.webelement.WebElement (session=\"9b70e87bb9be92350a60ad3f3b0eae5e\", element=\"0.6091258764311507-9\")>,\n",
       " <selenium.webdriver.remote.webelement.WebElement (session=\"9b70e87bb9be92350a60ad3f3b0eae5e\", element=\"0.6091258764311507-10\")>]"
      ]
     },
     "execution_count": 45,
     "metadata": {},
     "output_type": "execute_result"
    }
   ],
   "source": [
    "reviews"
   ]
  },
  {
   "cell_type": "markdown",
   "metadata": {},
   "source": [
    "It'll be easier said than done, but remaining steps are:\n",
    "\n",
    "1.  Scrolling to the bottom of the page to get all of the reviews.\n",
    "2.  Saving all these reviews and writing to a csv "
   ]
  },
  {
   "cell_type": "code",
   "execution_count": null,
   "metadata": {
    "collapsed": true
   },
   "outputs": [],
   "source": []
  },
  {
   "cell_type": "code",
   "execution_count": null,
   "metadata": {
    "collapsed": true
   },
   "outputs": [],
   "source": []
  }
 ],
 "metadata": {
  "kernelspec": {
   "display_name": "Python 2",
   "language": "python",
   "name": "python2"
  },
  "language_info": {
   "codemirror_mode": {
    "name": "ipython",
    "version": 2
   },
   "file_extension": ".py",
   "mimetype": "text/x-python",
   "name": "python",
   "nbconvert_exporter": "python",
   "pygments_lexer": "ipython2",
   "version": "2.7.11"
  }
 },
 "nbformat": 4,
 "nbformat_minor": 0
}
